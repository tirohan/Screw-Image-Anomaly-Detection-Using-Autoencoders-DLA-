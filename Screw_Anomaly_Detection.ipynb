{
  "nbformat": 4,
  "nbformat_minor": 0,
  "metadata": {
    "colab": {
      "provenance": []
    },
    "kernelspec": {
      "name": "python3",
      "display_name": "Python 3"
    },
    "language_info": {
      "name": "python"
    },
    "accelerator": "GPU",
    "gpuClass": "standard"
  },
  "cells": [
    {
      "cell_type": "code",
      "execution_count": 1,
      "metadata": {
        "colab": {
          "base_uri": "https://localhost:8080/"
        },
        "id": "fb73w9-dGdvp",
        "outputId": "3f1bd1d0-c075-4194-aa44-67d2bb219968"
      },
      "outputs": [
        {
          "output_type": "stream",
          "name": "stdout",
          "text": [
            "Mounted at /content/drive\n"
          ]
        }
      ],
      "source": [
        "from google.colab import drive\n",
        "drive.mount('/content/drive')"
      ]
    },
    {
      "cell_type": "code",
      "source": [
        "import torch\n",
        "import torch.nn as nn\n",
        "import torch.optim as optim\n",
        "import torchvision\n",
        "import torch.nn.functional as F\n",
        "import torch.optim as optim\n",
        "from torch.utils.data import DataLoader, random_split\n",
        "from torchvision import transforms\n",
        "from torchvision.datasets import ImageFolder\n",
        "from sklearn.metrics import f1_score, roc_auc_score\n",
        "import mlflow\n",
        "from tensorboardX import SummaryWriter\n",
        "import matplotlib.pyplot as plt \n",
        "import numpy as np \n",
        "import pandas as pd \n",
        "import random \n",
        "from torch.autograd import Variable"
      ],
      "metadata": {
        "id": "BYhKFQ4qLgxW"
      },
      "execution_count": 5,
      "outputs": []
    },
    {
      "cell_type": "code",
      "source": [
        "device = torch.device('cuda' if torch.cuda.is_available() else 'cpu')\n",
        "transform = transforms.Compose([\n",
        "    transforms.Resize((224, 224)),\n",
        "    transforms.RandomHorizontalFlip(),\n",
        "    transforms.RandomRotation(degrees=10),\n",
        "    transforms.ToTensor(),\n",
        "    transforms.Normalize(mean=[0.485, 0.456, 0.406], std=[0.229, 0.224, 0.225])\n",
        "])\n",
        "\n",
        "train_dir = ('/content/drive/MyDrive/Datasets/Screw Dataset/archive/train')\n",
        "test_dir = ('/content/drive/MyDrive/Datasets/Screw Dataset/archive/test')\n",
        "\n",
        "train_dataset = ImageFolder(root=train_dir, transform=transform)\n",
        "train_loader = DataLoader(train_dataset, batch_size=16, shuffle=True)\n",
        "\n",
        "test_dataset = ImageFolder(root=test_dir, transform=transform)\n",
        "test_loader = DataLoader(test_dataset, batch_size=16, shuffle=False)\n",
        "class_names = test_dataset.classes\n",
        "print(class_names)"
      ],
      "metadata": {
        "colab": {
          "base_uri": "https://localhost:8080/"
        },
        "id": "KUdvuZxeMqr1",
        "outputId": "0b46ec0e-bf0e-486b-9e22-5c4aa520c63e"
      },
      "execution_count": 9,
      "outputs": [
        {
          "output_type": "stream",
          "name": "stdout",
          "text": [
            "['good', 'not-good']\n"
          ]
        }
      ]
    },
    {
      "cell_type": "code",
      "source": [
        "# Autoencoder\n",
        "class Autoencoder(nn.Module):\n",
        "    def __init__(self):\n",
        "        super(Autoencoder, self).__init__()\n",
        "        self.encoder = nn.Sequential(\n",
        "            nn.Conv2d(3, 16, kernel_size=3, padding=1),\n",
        "            nn.ReLU(),\n",
        "            nn.MaxPool2d(kernel_size=2, stride=2),\n",
        "            nn.Conv2d(16, 8, kernel_size=3, padding=1),\n",
        "            nn.ReLU(),\n",
        "            nn.MaxPool2d(kernel_size=2, stride=2),\n",
        "            nn.Conv2d(8, 4, kernel_size=3, padding=1),\n",
        "            nn.ReLU(),\n",
        "            nn.MaxPool2d(kernel_size=2, stride=2)\n",
        "        )\n",
        "        self.decoder = nn.Sequential(\n",
        "            nn.ConvTranspose2d(4, 8, kernel_size=3, stride=2, padding=1, output_padding=1),\n",
        "            nn.ReLU(),\n",
        "            nn.ConvTranspose2d(8, 16, kernel_size=3, stride=2, padding=1, output_padding=1),\n",
        "            nn.ReLU(),\n",
        "            nn.ConvTranspose2d(16, 3, kernel_size=3, stride=2, padding=1, output_padding=1),\n",
        "            nn.ReLU()\n",
        "        )\n",
        "\n",
        "    def forward(self, x):\n",
        "        x = self.encoder(x)\n",
        "        x = self.decoder(x)\n",
        "        return x"
      ],
      "metadata": {
        "id": "dXLLzrZdMqul"
      },
      "execution_count": 10,
      "outputs": []
    },
    {
      "cell_type": "code",
      "source": [
        "# Instantiate Autoencoder and send to GPU\n",
        "autoencoder = Autoencoder().to(device)\n",
        "\n",
        "# Definition of loss function and optimizer\n",
        "criterion = nn.MSELoss()\n",
        "optimizer = optim.Adam(autoencoder.parameters(), lr=0.001)"
      ],
      "metadata": {
        "id": "V1ia8Nj4M_kd"
      },
      "execution_count": 11,
      "outputs": []
    },
    {
      "cell_type": "code",
      "source": [
        "# training\n",
        "for epoch in range(100):\n",
        "    running_loss = 0.0\n",
        "    for data in train_loader:\n",
        "        img, _ = data\n",
        "        img = Variable(img).to(device)\n",
        "        optimizer.zero_grad()\n",
        "        outputs = autoencoder(img)\n",
        "        loss = criterion(outputs, img)\n",
        "        loss.backward()\n",
        "        optimizer.step()\n",
        "        running_loss += loss.item()\n",
        "\n",
        "    print('Epoch [%d], Loss: %.4f' % (epoch+1, running_loss/len(train_loader)))\n",
        "\n",
        "# test\n",
        "autoencoder.eval()\n",
        "test_loss = 0.0\n",
        "with torch.no_grad():\n",
        "    for data in test_loader:\n",
        "        img, _ = data\n",
        "        img = Variable(img).to(device)\n",
        "        outputs = autoencoder(img)\n",
        "        loss = criterion(outputs, img)\n",
        "        test_loss += loss.item()\n",
        "\n",
        "print('Test Loss: %.4f' % (test_loss/len(test_loader)))"
      ],
      "metadata": {
        "colab": {
          "base_uri": "https://localhost:8080/"
        },
        "id": "XR261x01M_m2",
        "outputId": "6894b63b-1010-4990-8efb-930ed35c0194"
      },
      "execution_count": 12,
      "outputs": [
        {
          "output_type": "stream",
          "name": "stdout",
          "text": [
            "Epoch [1], Loss: 1.9253\n",
            "Epoch [2], Loss: 1.9255\n",
            "Epoch [3], Loss: 1.9262\n",
            "Epoch [4], Loss: 1.9262\n",
            "Epoch [5], Loss: 1.9300\n",
            "Epoch [6], Loss: 1.9287\n",
            "Epoch [7], Loss: 1.9281\n",
            "Epoch [8], Loss: 1.9277\n",
            "Epoch [9], Loss: 1.9283\n",
            "Epoch [10], Loss: 1.9268\n",
            "Epoch [11], Loss: 1.9256\n",
            "Epoch [12], Loss: 1.9291\n",
            "Epoch [13], Loss: 1.9292\n",
            "Epoch [14], Loss: 1.9272\n",
            "Epoch [15], Loss: 1.9255\n",
            "Epoch [16], Loss: 1.9265\n",
            "Epoch [17], Loss: 1.9294\n",
            "Epoch [18], Loss: 1.9279\n",
            "Epoch [19], Loss: 1.9280\n",
            "Epoch [20], Loss: 1.9263\n",
            "Epoch [21], Loss: 1.9294\n",
            "Epoch [22], Loss: 1.9275\n",
            "Epoch [23], Loss: 1.9265\n",
            "Epoch [24], Loss: 1.9285\n",
            "Epoch [25], Loss: 1.9314\n",
            "Epoch [26], Loss: 1.9262\n",
            "Epoch [27], Loss: 1.9289\n",
            "Epoch [28], Loss: 1.9284\n",
            "Epoch [29], Loss: 1.9253\n",
            "Epoch [30], Loss: 1.9250\n",
            "Epoch [31], Loss: 1.9241\n",
            "Epoch [32], Loss: 1.9263\n",
            "Epoch [33], Loss: 1.9275\n",
            "Epoch [34], Loss: 1.9230\n",
            "Epoch [35], Loss: 1.9277\n",
            "Epoch [36], Loss: 1.9236\n",
            "Epoch [37], Loss: 1.9233\n",
            "Epoch [38], Loss: 1.9298\n",
            "Epoch [39], Loss: 1.9290\n",
            "Epoch [40], Loss: 1.9311\n",
            "Epoch [41], Loss: 1.9247\n",
            "Epoch [42], Loss: 1.9269\n",
            "Epoch [43], Loss: 1.9295\n",
            "Epoch [44], Loss: 1.9298\n",
            "Epoch [45], Loss: 1.9271\n",
            "Epoch [46], Loss: 1.9256\n",
            "Epoch [47], Loss: 1.9288\n",
            "Epoch [48], Loss: 1.9312\n",
            "Epoch [49], Loss: 1.9250\n",
            "Epoch [50], Loss: 1.9238\n",
            "Epoch [51], Loss: 1.9299\n",
            "Epoch [52], Loss: 1.9260\n",
            "Epoch [53], Loss: 1.9239\n",
            "Epoch [54], Loss: 1.9264\n",
            "Epoch [55], Loss: 1.9274\n",
            "Epoch [56], Loss: 1.9259\n",
            "Epoch [57], Loss: 1.9298\n",
            "Epoch [58], Loss: 1.9273\n",
            "Epoch [59], Loss: 1.9286\n",
            "Epoch [60], Loss: 1.9284\n",
            "Epoch [61], Loss: 1.9268\n",
            "Epoch [62], Loss: 1.9296\n",
            "Epoch [63], Loss: 1.9235\n",
            "Epoch [64], Loss: 1.9256\n",
            "Epoch [65], Loss: 1.9261\n",
            "Epoch [66], Loss: 1.9263\n",
            "Epoch [67], Loss: 1.9268\n",
            "Epoch [68], Loss: 1.9249\n",
            "Epoch [69], Loss: 1.9350\n",
            "Epoch [70], Loss: 1.9286\n",
            "Epoch [71], Loss: 1.9276\n",
            "Epoch [72], Loss: 1.9259\n",
            "Epoch [73], Loss: 1.9294\n",
            "Epoch [74], Loss: 1.9261\n",
            "Epoch [75], Loss: 1.9302\n",
            "Epoch [76], Loss: 1.9294\n",
            "Epoch [77], Loss: 1.9277\n",
            "Epoch [78], Loss: 1.9259\n",
            "Epoch [79], Loss: 1.9264\n",
            "Epoch [80], Loss: 1.9241\n",
            "Epoch [81], Loss: 1.9254\n",
            "Epoch [82], Loss: 1.9269\n",
            "Epoch [83], Loss: 1.9258\n",
            "Epoch [84], Loss: 1.9254\n",
            "Epoch [85], Loss: 1.9296\n",
            "Epoch [86], Loss: 1.9309\n",
            "Epoch [87], Loss: 1.9303\n",
            "Epoch [88], Loss: 1.9224\n",
            "Epoch [89], Loss: 1.9253\n",
            "Epoch [90], Loss: 1.9255\n",
            "Epoch [91], Loss: 1.9308\n",
            "Epoch [92], Loss: 1.9289\n",
            "Epoch [93], Loss: 1.9315\n",
            "Epoch [94], Loss: 1.9292\n",
            "Epoch [95], Loss: 1.9263\n",
            "Epoch [96], Loss: 1.9281\n",
            "Epoch [97], Loss: 1.9297\n",
            "Epoch [98], Loss: 1.9291\n",
            "Epoch [99], Loss: 1.9278\n",
            "Epoch [100], Loss: 1.9269\n",
            "Test Loss: 1.9299\n"
          ]
        }
      ]
    },
    {
      "cell_type": "code",
      "source": [
        "#### comparison bertween classes in test data\n",
        "autoencoder.eval()\n",
        "test_loader = DataLoader(test_dataset, batch_size=1, shuffle=False)\n",
        "class_encodings = [[] for i in range(6)]\n",
        "with torch.no_grad():\n",
        "    for data in test_loader:\n",
        "        img, label = data\n",
        "        img = Variable(img).to(device)\n",
        "        encoding = autoencoder.encoder(img)\n",
        "        class_encodings[label.item()].append(encoding.cpu().numpy().ravel())"
      ],
      "metadata": {
        "id": "bFNE6PbWM_pk"
      },
      "execution_count": 13,
      "outputs": []
    },
    {
      "cell_type": "code",
      "source": [
        "class_means = []\n",
        "class_mses = []\n",
        "for i in range(2):\n",
        "    class_means.append(np.mean(class_encodings[i]))\n",
        "    class_mse = np.mean((class_encodings[i] - class_means[i])**2)\n",
        "    class_mses.append(class_mse)\n",
        "\n",
        "plt.figure(figsize=(8, 2))\n",
        "plt.bar(np.arange(2)-0.2, class_means, width=0.4, label='Mean', alpha=0.5)\n",
        "plt.bar(np.arange(2)+0.2, class_mses, width=0.4, label='MSE', alpha=0.5)\n",
        "plt.xticks(range(2), class_names, rotation=90)\n",
        "plt.legend()\n",
        "plt.title(\"Class Encodings Mean and MSE Comparison\")\n",
        "plt.show()"
      ],
      "metadata": {
        "colab": {
          "base_uri": "https://localhost:8080/",
          "height": 285
        },
        "id": "9zetTN1qS9Xx",
        "outputId": "7e84bf88-cd36-4453-c544-d3bd86454561"
      },
      "execution_count": 15,
      "outputs": [
        {
          "output_type": "display_data",
          "data": {
            "text/plain": [
              "<Figure size 800x200 with 1 Axes>"
            ],
            "image/png": "[encoded data removed]"
          },
          "metadata": {}
        }
      ]
    },
    {
      "cell_type": "code",
      "source": [],
      "metadata": {
        "id": "ArAm-Cc1TFDP"
      },
      "execution_count": null,
      "outputs": []
    },
    {
      "cell_type": "code",
      "source": [],
      "metadata": {
        "id": "wE_uJq1CS9aR"
      },
      "execution_count": null,
      "outputs": []
    }
  ]
}